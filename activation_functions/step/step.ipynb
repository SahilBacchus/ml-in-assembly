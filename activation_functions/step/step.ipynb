{
 "cells": [
  {
   "cell_type": "markdown",
   "id": "7dd157dd",
   "metadata": {},
   "source": [
    "# Heaviside Step Function"
   ]
  },
  {
   "cell_type": "markdown",
   "id": "1a52442a",
   "metadata": {},
   "source": [
    "## Math behind it\n",
    "---"
   ]
  },
  {
   "cell_type": "markdown",
   "id": "b16bf7ff",
   "metadata": {},
   "source": [
    "**Heaviside Step Function**\n",
    "\n",
    "The Heaviside step function (also called unit step function) acts as a binary activation, where it only outputs 1 once a thresehold of 0 is crossed. It's defined as: \n",
    "\n",
    "$$\n",
    "\\mathrm{H}(x) = \\begin{cases}\n",
    "    1, & \\text{if  } x \\ge 0, \\\\\n",
    "    0, & \\text{if  } x < 0\n",
    "\\end{cases}\n",
    " $$\n",
    "Advantages: \n",
    "- Useful for binary classification, since it ouputs a binary decision (0 or 1)  \n",
    "\n",
    "Disadvantages: \n",
    "- Non-differentiable at x = 0 and the derivative is 0 elsewhere, making it impossible to use with gradient descent\n",
    "- Although fundamental to early AI (ie. the perceptron), the step function is not widely used in the modern day \n",
    "\n"
   ]
  },
  {
   "cell_type": "markdown",
   "id": "c2c997a9",
   "metadata": {},
   "source": [
    "## Code\n",
    "---"
   ]
  },
  {
   "cell_type": "code",
   "execution_count": 1,
   "id": "ee8d3420",
   "metadata": {},
   "outputs": [],
   "source": [
    "class Step: \n",
    "    def __init__(self):\n",
    "        pass\n",
    "\n",
    "    def __call__(self, x):\n",
    "        return 1 if x >= 0 else 0 \n",
    "            "
   ]
  },
  {
   "cell_type": "markdown",
   "id": "5f40b7e0",
   "metadata": {},
   "source": [
    "## Testing\n",
    "---"
   ]
  },
  {
   "cell_type": "markdown",
   "id": "b20b8960",
   "metadata": {},
   "source": [
    "### Imports"
   ]
  },
  {
   "cell_type": "code",
   "execution_count": 2,
   "id": "e55b194c",
   "metadata": {},
   "outputs": [
    {
     "name": "stdout",
     "output_type": "stream",
     "text": [
      "Note: you may need to restart the kernel to use updated packages.\n"
     ]
    },
    {
     "name": "stderr",
     "output_type": "stream",
     "text": [
      "\n",
      "[notice] A new release of pip is available: 25.1 -> 25.2\n",
      "[notice] To update, run: python.exe -m pip install --upgrade pip\n"
     ]
    }
   ],
   "source": [
    "%pip install matplotlib --quiet"
   ]
  },
  {
   "cell_type": "markdown",
   "id": "6a2951b7",
   "metadata": {},
   "source": [
    "### Test Step Output and Plot Function "
   ]
  },
  {
   "cell_type": "code",
   "execution_count": 9,
   "id": "fbe2cd3f",
   "metadata": {},
   "outputs": [
    {
     "name": "stdout",
     "output_type": "stream",
     "text": [
      "========== Testing ===========\n",
      "Testing Heaviside Step Function:\n",
      "  x = -10 -> H(x) =   0, Expected =   0 \n",
      "  x =  -1 -> H(x) =   0, Expected =   0 \n",
      "  x =   0 -> H(x) =   1, Expected =   1 \n",
      "  x =   1 -> H(x) =   1, Expected =   1 \n",
      "  x =  10 -> H(x) =   1, Expected =   1 \n",
      "\n",
      " Plotting Heaviside Step Function \n"
     ]
    },
    {
     "data": {
      "image/png": "[encoded data removed]",
      "text/plain": [
       "<Figure size 800x600 with 1 Axes>"
      ]
     },
     "metadata": {},
     "output_type": "display_data"
    }
   ],
   "source": [
    "import matplotlib.pyplot as plt\n",
    "\n",
    "# intialize step function\n",
    "step = Step()\n",
    "\n",
    "\n",
    "# Test values\n",
    "test_inputs = [-10, -1, 0, 1, 10]\n",
    "expected_output = [0, 0, 1, 1, 1]\n",
    "\n",
    "print(\" Testing \".center(30, \"=\"))\n",
    "print(\"Testing Heaviside Step Function:\")\n",
    "for i in range(len(test_inputs)):\n",
    "    x = test_inputs[i]\n",
    "    y = step(x)\n",
    "    print(f\"  x = {x:>3} -> H(x) = {y:>3}, Expected = {expected_output[i]:>3} \")\n",
    "\n",
    "\n",
    "# Plot\n",
    "print()\n",
    "print(\" Plotting Heaviside Step Function \".center(30, \"=\"))\n",
    "\n",
    "x_values = [x * 0.1 for x in range(-100, 101)]  # From -10 to 10 with step 0.1\n",
    "step_values = [step(x) for x in x_values]\n",
    "\n",
    "# Plot step function\n",
    "plt.figure(figsize=(8, 6))\n",
    "plt.plot(x_values, step_values, label=\"H(x)\", color='blue')\n",
    "plt.title(\"Heaviside Step Function\")\n",
    "plt.xlabel(\"x\")\n",
    "plt.ylabel(\"H(x)\")\n",
    "plt.grid(True)\n",
    "plt.legend()\n",
    "\n",
    "plt.show()"
   ]
  }
 ],
 "metadata": {
  "kernelspec": {
   "display_name": ".venv",
   "language": "python",
   "name": "python3"
  },
  "language_info": {
   "codemirror_mode": {
    "name": "ipython",
    "version": 3
   },
   "file_extension": ".py",
   "mimetype": "text/x-python",
   "name": "python",
   "nbconvert_exporter": "python",
   "pygments_lexer": "ipython3",
   "version": "3.11.9"
  }
 },
 "nbformat": 4,
 "nbformat_minor": 5
}
