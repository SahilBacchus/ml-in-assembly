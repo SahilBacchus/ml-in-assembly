{
 "cells": [
  {
   "cell_type": "markdown",
   "id": "aed75cf4",
   "metadata": {},
   "source": [
    "# The Humble Perceptron"
   ]
  },
  {
   "cell_type": "markdown",
   "id": "077fb437",
   "metadata": {},
   "source": [
    "## History\n",
    "---"
   ]
  },
  {
   "cell_type": "markdown",
   "id": "03ce5dd8",
   "metadata": {},
   "source": [
    "In 1957, Frank Rosenblatt pioneered the first machine learning algorithm through the invention of the perceptron, modelled after biological neurons. Later unveiled to the public in 1960, the perceptron was touted as the next big thing with many believing that it would soon be able to \"walk, talk, see, write, reproduce itself and be conscious of its existence\"<sup>[1]</sup> (with some of the former only coming to fruition some 60 years later). The Navy claimed it was the first machine capable of \"receiving, recognizing and identifying its surroundings witouth any human training or control\"<sup>[1]</sup>, despite the overhyped expectations, the perceptron paved the way for the field of AI. However, rather unfortunately its shortcomings like its inability to learn patterns that were not linearly-sperable led AI research to stall for the coming decades, until the advent of the multilayer perceptron and backpropagation in the 1980s. \n",
    "\n",
    "<small>\n",
    "[1]: <a href=\"nytimes.com/timesmachine/1958/07/08/83417341.html?pageNumber=25\">“New Navy Device Learns By Doing,” New York Times, July 8 1958.</a>\n",
    "</small>"
   ]
  },
  {
   "cell_type": "markdown",
   "id": "654d90cb",
   "metadata": {},
   "source": [
    "## Math behind it\n",
    "---"
   ]
  },
  {
   "cell_type": "markdown",
   "id": "6a51b402",
   "metadata": {},
   "source": []
  },
  {
   "cell_type": "markdown",
   "id": "153f1dca",
   "metadata": {},
   "source": [
    "## Code\n",
    "---"
   ]
  },
  {
   "cell_type": "code",
   "execution_count": null,
   "id": "4159ce61",
   "metadata": {},
   "outputs": [
    {
     "name": "stdout",
     "output_type": "stream",
     "text": [
      "weight_0 = 1\n",
      "weight_1 = 2\n",
      "weight_2 = 4\n"
     ]
    }
   ],
   "source": []
  }
 ],
 "metadata": {
  "kernelspec": {
   "display_name": ".venv",
   "language": "python",
   "name": "python3"
  },
  "language_info": {
   "codemirror_mode": {
    "name": "ipython",
    "version": 3
   },
   "file_extension": ".py",
   "mimetype": "text/x-python",
   "name": "python",
   "nbconvert_exporter": "python",
   "pygments_lexer": "ipython3",
   "version": "3.11.9"
  }
 },
 "nbformat": 4,
 "nbformat_minor": 5
}
